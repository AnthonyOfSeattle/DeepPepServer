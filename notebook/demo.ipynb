{
 "cells": [
  {
   "cell_type": "markdown",
   "metadata": {},
   "source": [
    "## 1. Start server"
   ]
  },
  {
   "cell_type": "code",
   "execution_count": 1,
   "metadata": {},
   "outputs": [
    {
     "name": "stdout",
     "output_type": "stream",
     "text": [
      "3e70ce560a3d848947d9cb8ea4da7932a03f42c1003ea4a97d150b8dc2e016c4\n"
     ]
    }
   ],
   "source": [
    "%%bash\n",
    "docker run -d -p 9090:80 deeppepserver "
   ]
  },
  {
   "cell_type": "markdown",
   "metadata": {},
   "source": [
    "## 2. Python interface"
   ]
  },
  {
   "cell_type": "code",
   "execution_count": 2,
   "metadata": {},
   "outputs": [],
   "source": [
    "import requests\n",
    "import pandas as pd\n",
    "import matplotlib.pyplot as plt\n",
    "\n",
    "from sklearn.linear_model import LinearRegression"
   ]
  },
  {
   "cell_type": "markdown",
   "metadata": {},
   "source": [
    "**Load calibration data**"
   ]
  },
  {
   "cell_type": "code",
   "execution_count": 3,
   "metadata": {},
   "outputs": [
    {
     "data": {
      "text/html": [
       "<div>\n",
       "<style scoped>\n",
       "    .dataframe tbody tr th:only-of-type {\n",
       "        vertical-align: middle;\n",
       "    }\n",
       "\n",
       "    .dataframe tbody tr th {\n",
       "        vertical-align: top;\n",
       "    }\n",
       "\n",
       "    .dataframe thead th {\n",
       "        text-align: right;\n",
       "    }\n",
       "</style>\n",
       "<table border=\"1\" class=\"dataframe\">\n",
       "  <thead>\n",
       "    <tr style=\"text-align: right;\">\n",
       "      <th></th>\n",
       "      <th>sequence</th>\n",
       "      <th>retentionTime</th>\n",
       "    </tr>\n",
       "  </thead>\n",
       "  <tbody>\n",
       "    <tr>\n",
       "      <th>0</th>\n",
       "      <td>GNQNNALNSR</td>\n",
       "      <td>13.653333</td>\n",
       "    </tr>\n",
       "    <tr>\n",
       "      <th>1</th>\n",
       "      <td>SSGEPTSPSTSSNTR</td>\n",
       "      <td>14.063333</td>\n",
       "    </tr>\n",
       "    <tr>\n",
       "      <th>2</th>\n",
       "      <td>KAELEAAK</td>\n",
       "      <td>14.465000</td>\n",
       "    </tr>\n",
       "    <tr>\n",
       "      <th>3</th>\n",
       "      <td>SSAGFADK</td>\n",
       "      <td>14.870000</td>\n",
       "    </tr>\n",
       "    <tr>\n",
       "      <th>4</th>\n",
       "      <td>DDADEDEEDPDTR</td>\n",
       "      <td>15.246667</td>\n",
       "    </tr>\n",
       "  </tbody>\n",
       "</table>\n",
       "</div>"
      ],
      "text/plain": [
       "          sequence  retentionTime\n",
       "0       GNQNNALNSR      13.653333\n",
       "1  SSGEPTSPSTSSNTR      14.063333\n",
       "2         KAELEAAK      14.465000\n",
       "3         SSAGFADK      14.870000\n",
       "4    DDADEDEEDPDTR      15.246667"
      ]
     },
     "execution_count": 3,
     "metadata": {},
     "output_type": "execute_result"
    }
   ],
   "source": [
    "calibration_data = pd.read_csv(\"data/calibration.csv\")\n",
    "calibration_data.head()"
   ]
  },
  {
   "cell_type": "markdown",
   "metadata": {},
   "source": [
    "**Do calibration prediction on server**"
   ]
  },
  {
   "cell_type": "code",
   "execution_count": 4,
   "metadata": {},
   "outputs": [],
   "source": [
    "payload = {\n",
    "    \"peptides\" : [{\"sequence\": seq} for seq in calibration_data.sequence]\n",
    "}"
   ]
  },
  {
   "cell_type": "code",
   "execution_count": 5,
   "metadata": {},
   "outputs": [
    {
     "data": {
      "text/html": [
       "<div>\n",
       "<style scoped>\n",
       "    .dataframe tbody tr th:only-of-type {\n",
       "        vertical-align: middle;\n",
       "    }\n",
       "\n",
       "    .dataframe tbody tr th {\n",
       "        vertical-align: top;\n",
       "    }\n",
       "\n",
       "    .dataframe thead th {\n",
       "        text-align: right;\n",
       "    }\n",
       "</style>\n",
       "<table border=\"1\" class=\"dataframe\">\n",
       "  <thead>\n",
       "    <tr style=\"text-align: right;\">\n",
       "      <th></th>\n",
       "      <th>rt</th>\n",
       "      <th>sequence</th>\n",
       "      <th>charge</th>\n",
       "    </tr>\n",
       "  </thead>\n",
       "  <tbody>\n",
       "    <tr>\n",
       "      <th>0</th>\n",
       "      <td>-1.685661</td>\n",
       "      <td>GNQNNALNSR</td>\n",
       "      <td>None</td>\n",
       "    </tr>\n",
       "    <tr>\n",
       "      <th>1</th>\n",
       "      <td>-1.556427</td>\n",
       "      <td>SSGEPTSPSTSSNTR</td>\n",
       "      <td>None</td>\n",
       "    </tr>\n",
       "    <tr>\n",
       "      <th>2</th>\n",
       "      <td>-1.720362</td>\n",
       "      <td>KAELEAAK</td>\n",
       "      <td>None</td>\n",
       "    </tr>\n",
       "    <tr>\n",
       "      <th>3</th>\n",
       "      <td>-1.607995</td>\n",
       "      <td>SSAGFADK</td>\n",
       "      <td>None</td>\n",
       "    </tr>\n",
       "    <tr>\n",
       "      <th>4</th>\n",
       "      <td>-1.463463</td>\n",
       "      <td>DDADEDEEDPDTR</td>\n",
       "      <td>None</td>\n",
       "    </tr>\n",
       "  </tbody>\n",
       "</table>\n",
       "</div>"
      ],
      "text/plain": [
       "         rt         sequence charge\n",
       "0 -1.685661       GNQNNALNSR   None\n",
       "1 -1.556427  SSGEPTSPSTSSNTR   None\n",
       "2 -1.720362         KAELEAAK   None\n",
       "3 -1.607995         SSAGFADK   None\n",
       "4 -1.463463    DDADEDEEDPDTR   None"
      ]
     },
     "execution_count": 5,
     "metadata": {},
     "output_type": "execute_result"
    }
   ],
   "source": [
    "results = requests.post(\"http://localhost:9090/models/standard_rt/predict\", json=payload)\n",
    "\n",
    "results = pd.DataFrame.from_records(results.json())\n",
    "results.head()"
   ]
  },
  {
   "cell_type": "markdown",
   "metadata": {},
   "source": [
    "**Build calibration model**"
   ]
  },
  {
   "cell_type": "code",
   "execution_count": 6,
   "metadata": {},
   "outputs": [
    {
     "data": {
      "text/plain": [
       "LinearRegression()"
      ]
     },
     "execution_count": 6,
     "metadata": {},
     "output_type": "execute_result"
    }
   ],
   "source": [
    "cal_line = LinearRegression()\n",
    "cal_line.fit(calibration_data.loc[:, [\"retentionTime\"]], results.rt)"
   ]
  },
  {
   "cell_type": "code",
   "execution_count": 7,
   "metadata": {},
   "outputs": [
    {
     "data": {
      "image/png": "[encoded data removed]",
      "text/plain": [
       "<Figure size 700x700 with 1 Axes>"
      ]
     },
     "metadata": {},
     "output_type": "display_data"
    }
   ],
   "source": [
    "plt.figure(figsize=[7, 7])\n",
    "\n",
    "plt.scatter(\n",
    "    x=calibration_data.retentionTime,\n",
    "    y=results.rt,\n",
    "    s=20,\n",
    "    alpha=.75\n",
    ")\n",
    "\n",
    "m = cal_line.coef_[0]\n",
    "b = cal_line.intercept_\n",
    "plt.plot([10, 50],\n",
    "         [m * 10 + b, m * 50 + b],\n",
    "         color=\"black\",\n",
    "         linestyle=\"--\")\n",
    "\n",
    "plt.tick_params(labelsize=16)\n",
    "plt.xlabel(\"Actual RT (Minutes)\", size=18)\n",
    "plt.ylabel(\"Predicted RT\", size=18)\n",
    "\n",
    "plt.show()"
   ]
  },
  {
   "cell_type": "markdown",
   "metadata": {},
   "source": [
    "**Predict on new peptides**"
   ]
  },
  {
   "cell_type": "code",
   "execution_count": 8,
   "metadata": {},
   "outputs": [],
   "source": [
    "to_predict = [\"WVTFISLLLLFSSAYSRGVFRRDTHK\", \"SEIAHRFK\", \"DLGEEHFK\", \"GLVLIAFSQYLQQCPFDEHVK\"]\n",
    "payload = {\n",
    "    \"peptides\" : [{\"sequence\": seq} for seq in to_predict]\n",
    "}"
   ]
  },
  {
   "cell_type": "code",
   "execution_count": 9,
   "metadata": {},
   "outputs": [
    {
     "data": {
      "text/html": [
       "<div>\n",
       "<style scoped>\n",
       "    .dataframe tbody tr th:only-of-type {\n",
       "        vertical-align: middle;\n",
       "    }\n",
       "\n",
       "    .dataframe tbody tr th {\n",
       "        vertical-align: top;\n",
       "    }\n",
       "\n",
       "    .dataframe thead th {\n",
       "        text-align: right;\n",
       "    }\n",
       "</style>\n",
       "<table border=\"1\" class=\"dataframe\">\n",
       "  <thead>\n",
       "    <tr style=\"text-align: right;\">\n",
       "      <th></th>\n",
       "      <th>rt</th>\n",
       "      <th>sequence</th>\n",
       "      <th>charge</th>\n",
       "    </tr>\n",
       "  </thead>\n",
       "  <tbody>\n",
       "    <tr>\n",
       "      <th>0</th>\n",
       "      <td>2.422704</td>\n",
       "      <td>WVTFISLLLLFSSAYSRGVFRRDTHK</td>\n",
       "      <td>None</td>\n",
       "    </tr>\n",
       "    <tr>\n",
       "      <th>1</th>\n",
       "      <td>-1.532903</td>\n",
       "      <td>SEIAHRFK</td>\n",
       "      <td>None</td>\n",
       "    </tr>\n",
       "    <tr>\n",
       "      <th>2</th>\n",
       "      <td>-1.014002</td>\n",
       "      <td>DLGEEHFK</td>\n",
       "      <td>None</td>\n",
       "    </tr>\n",
       "    <tr>\n",
       "      <th>3</th>\n",
       "      <td>2.208428</td>\n",
       "      <td>GLVLIAFSQYLQQCPFDEHVK</td>\n",
       "      <td>None</td>\n",
       "    </tr>\n",
       "  </tbody>\n",
       "</table>\n",
       "</div>"
      ],
      "text/plain": [
       "         rt                    sequence charge\n",
       "0  2.422704  WVTFISLLLLFSSAYSRGVFRRDTHK   None\n",
       "1 -1.532903                    SEIAHRFK   None\n",
       "2 -1.014002                    DLGEEHFK   None\n",
       "3  2.208428       GLVLIAFSQYLQQCPFDEHVK   None"
      ]
     },
     "execution_count": 9,
     "metadata": {},
     "output_type": "execute_result"
    }
   ],
   "source": [
    "results = requests.post(\"http://localhost:9090/models/standard_rt/predict\", json=payload)\n",
    "\n",
    "results = pd.DataFrame.from_records(results.json())\n",
    "results"
   ]
  },
  {
   "cell_type": "code",
   "execution_count": 10,
   "metadata": {},
   "outputs": [
    {
     "data": {
      "text/html": [
       "<div>\n",
       "<style scoped>\n",
       "    .dataframe tbody tr th:only-of-type {\n",
       "        vertical-align: middle;\n",
       "    }\n",
       "\n",
       "    .dataframe tbody tr th {\n",
       "        vertical-align: top;\n",
       "    }\n",
       "\n",
       "    .dataframe thead th {\n",
       "        text-align: right;\n",
       "    }\n",
       "</style>\n",
       "<table border=\"1\" class=\"dataframe\">\n",
       "  <thead>\n",
       "    <tr style=\"text-align: right;\">\n",
       "      <th></th>\n",
       "      <th>rt</th>\n",
       "      <th>sequence</th>\n",
       "      <th>charge</th>\n",
       "      <th>realRT</th>\n",
       "    </tr>\n",
       "  </thead>\n",
       "  <tbody>\n",
       "    <tr>\n",
       "      <th>0</th>\n",
       "      <td>2.422704</td>\n",
       "      <td>WVTFISLLLLFSSAYSRGVFRRDTHK</td>\n",
       "      <td>None</td>\n",
       "      <td>56.159659</td>\n",
       "    </tr>\n",
       "    <tr>\n",
       "      <th>1</th>\n",
       "      <td>-1.532903</td>\n",
       "      <td>SEIAHRFK</td>\n",
       "      <td>None</td>\n",
       "      <td>15.023634</td>\n",
       "    </tr>\n",
       "    <tr>\n",
       "      <th>2</th>\n",
       "      <td>-1.014002</td>\n",
       "      <td>DLGEEHFK</td>\n",
       "      <td>None</td>\n",
       "      <td>20.419903</td>\n",
       "    </tr>\n",
       "    <tr>\n",
       "      <th>3</th>\n",
       "      <td>2.208428</td>\n",
       "      <td>GLVLIAFSQYLQQCPFDEHVK</td>\n",
       "      <td>None</td>\n",
       "      <td>53.931306</td>\n",
       "    </tr>\n",
       "  </tbody>\n",
       "</table>\n",
       "</div>"
      ],
      "text/plain": [
       "         rt                    sequence charge     realRT\n",
       "0  2.422704  WVTFISLLLLFSSAYSRGVFRRDTHK   None  56.159659\n",
       "1 -1.532903                    SEIAHRFK   None  15.023634\n",
       "2 -1.014002                    DLGEEHFK   None  20.419903\n",
       "3  2.208428       GLVLIAFSQYLQQCPFDEHVK   None  53.931306"
      ]
     },
     "execution_count": 10,
     "metadata": {},
     "output_type": "execute_result"
    }
   ],
   "source": [
    "m = cal_line.coef_[0]\n",
    "b = cal_line.intercept_\n",
    "results[\"realRT\"] = (results.rt - b)/m\n",
    "\n",
    "results"
   ]
  }
 ],
 "metadata": {
  "kernelspec": {
   "display_name": "Python 3 (ipykernel)",
   "language": "python",
   "name": "python3"
  },
  "language_info": {
   "codemirror_mode": {
    "name": "ipython",
    "version": 3
   },
   "file_extension": ".py",
   "mimetype": "text/x-python",
   "name": "python",
   "nbconvert_exporter": "python",
   "pygments_lexer": "ipython3",
   "version": "3.7.9"
  }
 },
 "nbformat": 4,
 "nbformat_minor": 4
}
